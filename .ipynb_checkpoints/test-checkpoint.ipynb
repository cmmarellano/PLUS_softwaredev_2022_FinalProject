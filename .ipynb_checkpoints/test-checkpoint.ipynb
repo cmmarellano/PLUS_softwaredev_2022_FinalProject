{
 "cells": [
  {
   "cell_type": "code",
   "execution_count": 7,
   "id": "e9eea7fd",
   "metadata": {},
   "outputs": [
    {
     "name": "stdout",
     "output_type": "stream",
     "text": [
      " * Serving Flask app '__main__'\n",
      " * Debug mode: on\n"
     ]
    },
    {
     "name": "stderr",
     "output_type": "stream",
     "text": [
      "2022-08-27 21:46:57.632 \u001b[31m\u001b[1mWARNING: This is a development server. Do not use it in a production deployment. Use a production WSGI server instead.\u001b[0m\n",
      " * Running on http://127.0.0.1:5000\n",
      "2022-08-27 21:46:57.632 \u001b[33mPress CTRL+C to quit\u001b[0m\n",
      "2022-08-27 21:46:57.632  * Restarting with watchdog (windowsapi)\n"
     ]
    },
    {
     "ename": "SystemExit",
     "evalue": "1",
     "output_type": "error",
     "traceback": [
      "An exception has occurred, use %tb to see the full traceback.\n",
      "\u001b[1;31mSystemExit\u001b[0m\u001b[1;31m:\u001b[0m 1\n"
     ]
    }
   ],
   "source": [
    "from flask import Flask\n",
    "\n",
    "import folium\n",
    "\n",
    "app = Flask(__name__)\n",
    "\n",
    "\n",
    "@app.route('/')\n",
    "def index():\n",
    "    start_coords = (46.9540700, 142.7360300)\n",
    "    folium_map = folium.Map(location=start_coords, zoom_start=14)\n",
    "    return folium_map._repr_html_()\n",
    "\n",
    "\n",
    "if __name__ == '__main__':\n",
    "    app.run(debug=True, use_reloader=True)"
   ]
  },
  {
   "cell_type": "code",
   "execution_count": 2,
   "id": "38c399ac",
   "metadata": {},
   "outputs": [
    {
     "name": "stderr",
     "output_type": "stream",
     "text": [
      "2022-08-27 20:20:07.878 \n",
      "  \u001b[33m\u001b[1mWarning:\u001b[0m to view this Streamlit app on a browser, run it with the following\n",
      "  command:\n",
      "\n",
      "    streamlit run C:\\Users\\carellano.LEGION5PRO-O3OB\\.conda\\envs\\sde_project\\lib\\site-packages\\ipykernel_launcher.py [ARGUMENTS]\n"
     ]
    }
   ],
   "source": [
    "# import folium\n",
    "# import streamlit as st\n",
    "# from folium.plugins import Draw\n",
    "# from streamlit_folium import st_folium\n",
    "\n",
    "# st.set_page_config(layout=\"wide\")\n",
    "\n",
    "# \"## Try drawing some objects and then clicking on them\"\n",
    "\n",
    "# m = folium.Map(location=[39.949610, -75.150282], zoom_start=5)\n",
    "# Draw(export=True).add_to(m)\n",
    "\n",
    "# c1, c2 = st.columns(2)\n",
    "# with c1:    \n",
    "#     output = st_folium(m, width = 700, height=500)\n",
    "\n",
    "# with c2:\n",
    "#     st.write(output)"
   ]
  }
 ],
 "metadata": {
  "kernelspec": {
   "display_name": "Python39 (sde_project)",
   "language": "python",
   "name": "sde_project"
  },
  "language_info": {
   "codemirror_mode": {
    "name": "ipython",
    "version": 3
   },
   "file_extension": ".py",
   "mimetype": "text/x-python",
   "name": "python",
   "nbconvert_exporter": "python",
   "pygments_lexer": "ipython3",
   "version": "3.9.7"
  }
 },
 "nbformat": 4,
 "nbformat_minor": 5
}
