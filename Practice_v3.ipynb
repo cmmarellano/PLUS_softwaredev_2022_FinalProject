{
 "cells": [
  {
   "cell_type": "markdown",
   "id": "03ae6b35",
   "metadata": {},
   "source": [
    "## Geocoding and routing application using open source python libraries"
   ]
  },
  {
   "cell_type": "markdown",
   "id": "1bad2222",
   "metadata": {},
   "source": [
    "##### The workflow order is as follows:\n",
    "1. Import libraries\n",
    "2. Import addresses\n",
    "3. Geocode addresses\n",
    "4. Plot addresses\n",
    "5. Select start and end point to plot route\n",
    "6. Compute and display optimal driving route, distance and time\n"
   ]
  },
  {
   "cell_type": "code",
   "execution_count": 1,
   "id": "574ff9c0",
   "metadata": {},
   "outputs": [],
   "source": [
    "import openrouteservice as ors\n",
    "from openrouteservice.directions import directions\n",
    "import folium\n",
    "import geopy\n",
    "import leafmap\n",
    "import pandas as pd\n",
    "import ipywidgets as widgets\n",
    "from IPython.display import display\n",
    "import io"
   ]
  },
  {
   "cell_type": "code",
   "execution_count": 2,
   "id": "d1cbb8be",
   "metadata": {},
   "outputs": [],
   "source": [
    "#pip install openrouteservice"
   ]
  },
  {
   "cell_type": "markdown",
   "id": "e30e827d",
   "metadata": {},
   "source": [
    "##### API Key"
   ]
  },
  {
   "cell_type": "code",
   "execution_count": 3,
   "id": "6bb79726",
   "metadata": {},
   "outputs": [],
   "source": [
    "# import config\n",
    "# performs requests to the ORS API services\n",
    "# client will be used in all examples\n",
    "client = ors.Client(key='5b3ce3597851110001cf624889ce32dc9e8741dca14bd53556e3a687')"
   ]
  },
  {
   "cell_type": "markdown",
   "id": "1e4929cd",
   "metadata": {},
   "source": [
    "#### Import addresses\n",
    "\n",
    "Import addresses in CSV file format "
   ]
  },
  {
   "cell_type": "code",
   "execution_count": 4,
   "id": "04c17053",
   "metadata": {},
   "outputs": [
    {
     "data": {
      "application/vnd.jupyter.widget-view+json": {
       "model_id": "97cc1a8525ba4e1787813d15f6aff64c",
       "version_major": 2,
       "version_minor": 0
      },
      "text/plain": [
       "FileUpload(value={}, accept='*.csv', description='Upload')"
      ]
     },
     "metadata": {},
     "output_type": "display_data"
    }
   ],
   "source": [
    "upload = widgets.FileUpload(\n",
    "        accept='*.csv',\n",
    "        multiple=False)\n",
    "display(upload)"
   ]
  },
  {
   "cell_type": "markdown",
   "id": "5a17f9f7",
   "metadata": {},
   "source": [
    "#### Data Cleaning \n",
    "Inspect the imported data and optimize it for geocoding"
   ]
  },
  {
   "cell_type": "code",
   "execution_count": 6,
   "id": "a50904b7",
   "metadata": {},
   "outputs": [
    {
     "data": {
      "text/html": [
       "<div>\n",
       "<style scoped>\n",
       "    .dataframe tbody tr th:only-of-type {\n",
       "        vertical-align: middle;\n",
       "    }\n",
       "\n",
       "    .dataframe tbody tr th {\n",
       "        vertical-align: top;\n",
       "    }\n",
       "\n",
       "    .dataframe thead th {\n",
       "        text-align: right;\n",
       "    }\n",
       "</style>\n",
       "<table border=\"1\" class=\"dataframe\">\n",
       "  <thead>\n",
       "    <tr style=\"text-align: right;\">\n",
       "      <th></th>\n",
       "      <th>Unnamed: 0</th>\n",
       "      <th>restaurant</th>\n",
       "      <th>street</th>\n",
       "      <th>zip</th>\n",
       "      <th>city</th>\n",
       "      <th>country</th>\n",
       "    </tr>\n",
       "  </thead>\n",
       "  <tbody>\n",
       "    <tr>\n",
       "      <th>0</th>\n",
       "      <td>0</td>\n",
       "      <td>McDonalds</td>\n",
       "      <td>S-Bahnhof Alexanderplatz 1</td>\n",
       "      <td>10178</td>\n",
       "      <td>Berlin</td>\n",
       "      <td>Germany</td>\n",
       "    </tr>\n",
       "    <tr>\n",
       "      <th>1</th>\n",
       "      <td>1</td>\n",
       "      <td>McDonalds</td>\n",
       "      <td>U-Bahnhof Alexanderplatz 1</td>\n",
       "      <td>10178</td>\n",
       "      <td>Berlin</td>\n",
       "      <td>Germany</td>\n",
       "    </tr>\n",
       "    <tr>\n",
       "      <th>2</th>\n",
       "      <td>2</td>\n",
       "      <td>McDonalds</td>\n",
       "      <td>Europaplatz 1</td>\n",
       "      <td>10557</td>\n",
       "      <td>Berlin</td>\n",
       "      <td>Germany</td>\n",
       "    </tr>\n",
       "    <tr>\n",
       "      <th>3</th>\n",
       "      <td>3</td>\n",
       "      <td>McDonalds</td>\n",
       "      <td>Walther-Schreiber-Platz 1</td>\n",
       "      <td>12161</td>\n",
       "      <td>Berlin</td>\n",
       "      <td>Germany</td>\n",
       "    </tr>\n",
       "    <tr>\n",
       "      <th>4</th>\n",
       "      <td>4</td>\n",
       "      <td>McDonalds</td>\n",
       "      <td>Hansastr. 1</td>\n",
       "      <td>13053</td>\n",
       "      <td>Berlin</td>\n",
       "      <td>Germany</td>\n",
       "    </tr>\n",
       "  </tbody>\n",
       "</table>\n",
       "</div>"
      ],
      "text/plain": [
       "   Unnamed: 0 restaurant                      street    zip    city  country\n",
       "0           0  McDonalds  S-Bahnhof Alexanderplatz 1  10178  Berlin  Germany\n",
       "1           1  McDonalds  U-Bahnhof Alexanderplatz 1  10178  Berlin  Germany\n",
       "2           2  McDonalds               Europaplatz 1  10557  Berlin  Germany\n",
       "3           3  McDonalds   Walther-Schreiber-Platz 1  12161  Berlin  Germany\n",
       "4           4  McDonalds                 Hansastr. 1  13053  Berlin  Germany"
      ]
     },
     "execution_count": 6,
     "metadata": {},
     "output_type": "execute_result"
    }
   ],
   "source": [
    "input_file = list(upload.value.values())[0]\n",
    "content = input_file['content']\n",
    "content = io.StringIO(content.decode('utf-8'))\n",
    "df = pd.read_csv(content)\n",
    "df.head()"
   ]
  },
  {
   "cell_type": "code",
   "execution_count": 7,
   "id": "01e9082b",
   "metadata": {},
   "outputs": [
    {
     "data": {
      "text/html": [
       "<div>\n",
       "<style scoped>\n",
       "    .dataframe tbody tr th:only-of-type {\n",
       "        vertical-align: middle;\n",
       "    }\n",
       "\n",
       "    .dataframe tbody tr th {\n",
       "        vertical-align: top;\n",
       "    }\n",
       "\n",
       "    .dataframe thead th {\n",
       "        text-align: right;\n",
       "    }\n",
       "</style>\n",
       "<table border=\"1\" class=\"dataframe\">\n",
       "  <thead>\n",
       "    <tr style=\"text-align: right;\">\n",
       "      <th></th>\n",
       "      <th>Unnamed: 0</th>\n",
       "      <th>restaurant</th>\n",
       "      <th>street</th>\n",
       "      <th>zip</th>\n",
       "      <th>city</th>\n",
       "      <th>country</th>\n",
       "      <th>address</th>\n",
       "    </tr>\n",
       "  </thead>\n",
       "  <tbody>\n",
       "    <tr>\n",
       "      <th>0</th>\n",
       "      <td>0</td>\n",
       "      <td>McDonalds</td>\n",
       "      <td>S-Bahnhof Alexanderplatz 1</td>\n",
       "      <td>10178</td>\n",
       "      <td>Berlin</td>\n",
       "      <td>Germany</td>\n",
       "      <td>S-Bahnhof Alexanderplatz 1, 10178, Berlin, Ger...</td>\n",
       "    </tr>\n",
       "    <tr>\n",
       "      <th>1</th>\n",
       "      <td>1</td>\n",
       "      <td>McDonalds</td>\n",
       "      <td>U-Bahnhof Alexanderplatz 1</td>\n",
       "      <td>10178</td>\n",
       "      <td>Berlin</td>\n",
       "      <td>Germany</td>\n",
       "      <td>U-Bahnhof Alexanderplatz 1, 10178, Berlin, Ger...</td>\n",
       "    </tr>\n",
       "    <tr>\n",
       "      <th>2</th>\n",
       "      <td>2</td>\n",
       "      <td>McDonalds</td>\n",
       "      <td>Europaplatz 1</td>\n",
       "      <td>10557</td>\n",
       "      <td>Berlin</td>\n",
       "      <td>Germany</td>\n",
       "      <td>Europaplatz 1, 10557, Berlin, Germany</td>\n",
       "    </tr>\n",
       "    <tr>\n",
       "      <th>3</th>\n",
       "      <td>3</td>\n",
       "      <td>McDonalds</td>\n",
       "      <td>Walther-Schreiber-Platz 1</td>\n",
       "      <td>12161</td>\n",
       "      <td>Berlin</td>\n",
       "      <td>Germany</td>\n",
       "      <td>Walther-Schreiber-Platz 1, 12161, Berlin, Germany</td>\n",
       "    </tr>\n",
       "    <tr>\n",
       "      <th>4</th>\n",
       "      <td>4</td>\n",
       "      <td>McDonalds</td>\n",
       "      <td>Hansastr. 1</td>\n",
       "      <td>13053</td>\n",
       "      <td>Berlin</td>\n",
       "      <td>Germany</td>\n",
       "      <td>Hansastr. 1, 13053, Berlin, Germany</td>\n",
       "    </tr>\n",
       "  </tbody>\n",
       "</table>\n",
       "</div>"
      ],
      "text/plain": [
       "   Unnamed: 0 restaurant                      street    zip    city  country  \\\n",
       "0           0  McDonalds  S-Bahnhof Alexanderplatz 1  10178  Berlin  Germany   \n",
       "1           1  McDonalds  U-Bahnhof Alexanderplatz 1  10178  Berlin  Germany   \n",
       "2           2  McDonalds               Europaplatz 1  10557  Berlin  Germany   \n",
       "3           3  McDonalds   Walther-Schreiber-Platz 1  12161  Berlin  Germany   \n",
       "4           4  McDonalds                 Hansastr. 1  13053  Berlin  Germany   \n",
       "\n",
       "                                             address  \n",
       "0  S-Bahnhof Alexanderplatz 1, 10178, Berlin, Ger...  \n",
       "1  U-Bahnhof Alexanderplatz 1, 10178, Berlin, Ger...  \n",
       "2              Europaplatz 1, 10557, Berlin, Germany  \n",
       "3  Walther-Schreiber-Platz 1, 12161, Berlin, Germany  \n",
       "4                Hansastr. 1, 13053, Berlin, Germany  "
      ]
     },
     "execution_count": 7,
     "metadata": {},
     "output_type": "execute_result"
    }
   ],
   "source": [
    "# Merge street, zip and city fields into an address field Using DataFrame.apply() and lambda function\n",
    "\n",
    "df[\"address\"] = df[\"street\"].map(str) + ', ' + df[\"zip\"].map(str)+ ', ' + df[\"city\"]+ ', ' +  df['country']\n",
    "df.head()"
   ]
  },
  {
   "cell_type": "markdown",
   "id": "799eac84",
   "metadata": {},
   "source": [
    "#### Geocode addresses\n",
    "Geocode addresses using geopy library and Nominatim"
   ]
  },
  {
   "cell_type": "code",
   "execution_count": 8,
   "id": "85d967de",
   "metadata": {},
   "outputs": [],
   "source": [
    "from geopy.geocoders import Nominatim\n",
    "from geopy.extra.rate_limiter import RateLimiter"
   ]
  },
  {
   "cell_type": "code",
   "execution_count": 9,
   "id": "d3ba1f34",
   "metadata": {},
   "outputs": [],
   "source": [
    "geolocator = Nominatim(user_agent=\"Practice\")"
   ]
  },
  {
   "cell_type": "code",
   "execution_count": 10,
   "id": "b6a24432",
   "metadata": {},
   "outputs": [
    {
     "name": "stderr",
     "output_type": "stream",
     "text": [
      "RateLimiter caught an error, retrying (0/2 tries). Called with (*('S-Bahnhof Alexanderplatz 1, 10178, Berlin, Germany',), **{}).\n",
      "Traceback (most recent call last):\n",
      "  File \"C:\\Users\\carellano.LEGION5PRO-O3OB\\AppData\\Roaming\\Python\\Python39\\site-packages\\urllib3\\connection.py\", line 174, in _new_conn\n",
      "    conn = connection.create_connection(\n",
      "  File \"C:\\Users\\carellano.LEGION5PRO-O3OB\\AppData\\Roaming\\Python\\Python39\\site-packages\\urllib3\\util\\connection.py\", line 95, in create_connection\n",
      "    raise err\n",
      "  File \"C:\\Users\\carellano.LEGION5PRO-O3OB\\AppData\\Roaming\\Python\\Python39\\site-packages\\urllib3\\util\\connection.py\", line 85, in create_connection\n",
      "    sock.connect(sa)\n",
      "socket.timeout: timed out\n",
      "\n",
      "During handling of the above exception, another exception occurred:\n",
      "\n",
      "Traceback (most recent call last):\n",
      "  File \"C:\\Users\\carellano.LEGION5PRO-O3OB\\AppData\\Roaming\\Python\\Python39\\site-packages\\urllib3\\connectionpool.py\", line 703, in urlopen\n",
      "    httplib_response = self._make_request(\n",
      "  File \"C:\\Users\\carellano.LEGION5PRO-O3OB\\AppData\\Roaming\\Python\\Python39\\site-packages\\urllib3\\connectionpool.py\", line 386, in _make_request\n",
      "    self._validate_conn(conn)\n",
      "  File \"C:\\Users\\carellano.LEGION5PRO-O3OB\\AppData\\Roaming\\Python\\Python39\\site-packages\\urllib3\\connectionpool.py\", line 1042, in _validate_conn\n",
      "    conn.connect()\n",
      "  File \"C:\\Users\\carellano.LEGION5PRO-O3OB\\AppData\\Roaming\\Python\\Python39\\site-packages\\urllib3\\connection.py\", line 358, in connect\n",
      "    self.sock = conn = self._new_conn()\n",
      "  File \"C:\\Users\\carellano.LEGION5PRO-O3OB\\AppData\\Roaming\\Python\\Python39\\site-packages\\urllib3\\connection.py\", line 179, in _new_conn\n",
      "    raise ConnectTimeoutError(\n",
      "urllib3.exceptions.ConnectTimeoutError: (<urllib3.connection.HTTPSConnection object at 0x0000016E669D48E0>, 'Connection to nominatim.openstreetmap.org timed out. (connect timeout=1)')\n",
      "\n",
      "During handling of the above exception, another exception occurred:\n",
      "\n",
      "Traceback (most recent call last):\n",
      "  File \"C:\\Users\\carellano.LEGION5PRO-O3OB\\AppData\\Roaming\\Python\\Python39\\site-packages\\requests\\adapters.py\", line 489, in send\n",
      "    resp = conn.urlopen(\n",
      "  File \"C:\\Users\\carellano.LEGION5PRO-O3OB\\AppData\\Roaming\\Python\\Python39\\site-packages\\urllib3\\connectionpool.py\", line 815, in urlopen\n",
      "    return self.urlopen(\n",
      "  File \"C:\\Users\\carellano.LEGION5PRO-O3OB\\AppData\\Roaming\\Python\\Python39\\site-packages\\urllib3\\connectionpool.py\", line 815, in urlopen\n",
      "    return self.urlopen(\n",
      "  File \"C:\\Users\\carellano.LEGION5PRO-O3OB\\AppData\\Roaming\\Python\\Python39\\site-packages\\urllib3\\connectionpool.py\", line 787, in urlopen\n",
      "    retries = retries.increment(\n",
      "  File \"C:\\Users\\carellano.LEGION5PRO-O3OB\\AppData\\Roaming\\Python\\Python39\\site-packages\\urllib3\\util\\retry.py\", line 592, in increment\n",
      "    raise MaxRetryError(_pool, url, error or ResponseError(cause))\n",
      "urllib3.exceptions.MaxRetryError: HTTPSConnectionPool(host='nominatim.openstreetmap.org', port=443): Max retries exceeded with url: /search?q=S-Bahnhof+Alexanderplatz+1%2C+10178%2C+Berlin%2C+Germany&format=json&limit=1 (Caused by ConnectTimeoutError(<urllib3.connection.HTTPSConnection object at 0x0000016E669D48E0>, 'Connection to nominatim.openstreetmap.org timed out. (connect timeout=1)'))\n",
      "\n",
      "During handling of the above exception, another exception occurred:\n",
      "\n",
      "Traceback (most recent call last):\n",
      "  File \"C:\\Users\\carellano.LEGION5PRO-O3OB\\.conda\\envs\\sde_project\\lib\\site-packages\\geopy\\adapters.py\", line 448, in _request\n",
      "    resp = self.session.get(url, timeout=timeout, headers=headers)\n",
      "  File \"C:\\Users\\carellano.LEGION5PRO-O3OB\\AppData\\Roaming\\Python\\Python39\\site-packages\\requests\\sessions.py\", line 600, in get\n",
      "    return self.request(\"GET\", url, **kwargs)\n",
      "  File \"C:\\Users\\carellano.LEGION5PRO-O3OB\\AppData\\Roaming\\Python\\Python39\\site-packages\\requests\\sessions.py\", line 587, in request\n",
      "    resp = self.send(prep, **send_kwargs)\n",
      "  File \"C:\\Users\\carellano.LEGION5PRO-O3OB\\AppData\\Roaming\\Python\\Python39\\site-packages\\requests\\sessions.py\", line 701, in send\n",
      "    r = adapter.send(request, **kwargs)\n",
      "  File \"C:\\Users\\carellano.LEGION5PRO-O3OB\\AppData\\Roaming\\Python\\Python39\\site-packages\\requests\\adapters.py\", line 553, in send\n",
      "    raise ConnectTimeout(e, request=request)\n",
      "requests.exceptions.ConnectTimeout: HTTPSConnectionPool(host='nominatim.openstreetmap.org', port=443): Max retries exceeded with url: /search?q=S-Bahnhof+Alexanderplatz+1%2C+10178%2C+Berlin%2C+Germany&format=json&limit=1 (Caused by ConnectTimeoutError(<urllib3.connection.HTTPSConnection object at 0x0000016E669D48E0>, 'Connection to nominatim.openstreetmap.org timed out. (connect timeout=1)'))\n",
      "\n",
      "During handling of the above exception, another exception occurred:\n",
      "\n",
      "Traceback (most recent call last):\n",
      "  File \"C:\\Users\\carellano.LEGION5PRO-O3OB\\.conda\\envs\\sde_project\\lib\\site-packages\\geopy\\extra\\rate_limiter.py\", line 136, in _retries_gen\n",
      "    yield i  # Run the function.\n",
      "  File \"C:\\Users\\carellano.LEGION5PRO-O3OB\\.conda\\envs\\sde_project\\lib\\site-packages\\geopy\\extra\\rate_limiter.py\", line 274, in __call__\n",
      "    res = self.func(*args, **kwargs)\n",
      "  File \"C:\\Users\\carellano.LEGION5PRO-O3OB\\.conda\\envs\\sde_project\\lib\\site-packages\\geopy\\geocoders\\nominatim.py\", line 297, in geocode\n",
      "    return self._call_geocoder(url, callback, timeout=timeout)\n",
      "  File \"C:\\Users\\carellano.LEGION5PRO-O3OB\\.conda\\envs\\sde_project\\lib\\site-packages\\geopy\\geocoders\\base.py\", line 368, in _call_geocoder\n",
      "    result = self.adapter.get_json(url, timeout=timeout, headers=req_headers)\n",
      "  File \"C:\\Users\\carellano.LEGION5PRO-O3OB\\.conda\\envs\\sde_project\\lib\\site-packages\\geopy\\adapters.py\", line 438, in get_json\n",
      "    resp = self._request(url, timeout=timeout, headers=headers)\n",
      "  File \"C:\\Users\\carellano.LEGION5PRO-O3OB\\.conda\\envs\\sde_project\\lib\\site-packages\\geopy\\adapters.py\", line 460, in _request\n",
      "    raise GeocoderUnavailable(message)\n",
      "geopy.exc.GeocoderUnavailable: HTTPSConnectionPool(host='nominatim.openstreetmap.org', port=443): Max retries exceeded with url: /search?q=S-Bahnhof+Alexanderplatz+1%2C+10178%2C+Berlin%2C+Germany&format=json&limit=1 (Caused by ConnectTimeoutError(<urllib3.connection.HTTPSConnection object at 0x0000016E669D48E0>, 'Connection to nominatim.openstreetmap.org timed out. (connect timeout=1)'))\n"
     ]
    }
   ],
   "source": [
    "locator = Nominatim(user_agent=\"Practice\")\n",
    "\n",
    "geocode = RateLimiter(locator.geocode, min_delay_seconds=1)\n",
    "df['location'] = df['address'].apply(geocode)\n",
    "\n",
    "df['point'] = df['location'].apply(lambda loc: tuple(loc.point) if loc else None)"
   ]
  },
  {
   "cell_type": "code",
   "execution_count": 11,
   "id": "faa395b2",
   "metadata": {},
   "outputs": [
    {
     "data": {
      "text/html": [
       "<div>\n",
       "<style scoped>\n",
       "    .dataframe tbody tr th:only-of-type {\n",
       "        vertical-align: middle;\n",
       "    }\n",
       "\n",
       "    .dataframe tbody tr th {\n",
       "        vertical-align: top;\n",
       "    }\n",
       "\n",
       "    .dataframe thead th {\n",
       "        text-align: right;\n",
       "    }\n",
       "</style>\n",
       "<table border=\"1\" class=\"dataframe\">\n",
       "  <thead>\n",
       "    <tr style=\"text-align: right;\">\n",
       "      <th></th>\n",
       "      <th>Unnamed: 0</th>\n",
       "      <th>restaurant</th>\n",
       "      <th>street</th>\n",
       "      <th>zip</th>\n",
       "      <th>city</th>\n",
       "      <th>country</th>\n",
       "      <th>address</th>\n",
       "      <th>location</th>\n",
       "      <th>point</th>\n",
       "    </tr>\n",
       "  </thead>\n",
       "  <tbody>\n",
       "    <tr>\n",
       "      <th>0</th>\n",
       "      <td>0</td>\n",
       "      <td>McDonalds</td>\n",
       "      <td>S-Bahnhof Alexanderplatz 1</td>\n",
       "      <td>10178</td>\n",
       "      <td>Berlin</td>\n",
       "      <td>Germany</td>\n",
       "      <td>S-Bahnhof Alexanderplatz 1, 10178, Berlin, Ger...</td>\n",
       "      <td>None</td>\n",
       "      <td>None</td>\n",
       "    </tr>\n",
       "    <tr>\n",
       "      <th>1</th>\n",
       "      <td>1</td>\n",
       "      <td>McDonalds</td>\n",
       "      <td>U-Bahnhof Alexanderplatz 1</td>\n",
       "      <td>10178</td>\n",
       "      <td>Berlin</td>\n",
       "      <td>Germany</td>\n",
       "      <td>U-Bahnhof Alexanderplatz 1, 10178, Berlin, Ger...</td>\n",
       "      <td>None</td>\n",
       "      <td>None</td>\n",
       "    </tr>\n",
       "    <tr>\n",
       "      <th>2</th>\n",
       "      <td>2</td>\n",
       "      <td>McDonalds</td>\n",
       "      <td>Europaplatz 1</td>\n",
       "      <td>10557</td>\n",
       "      <td>Berlin</td>\n",
       "      <td>Germany</td>\n",
       "      <td>Europaplatz 1, 10557, Berlin, Germany</td>\n",
       "      <td>(Europaplatz 1, 10557 Berlin, Europaplatz, Moa...</td>\n",
       "      <td>(52.5257446, 13.3685935, 0.0)</td>\n",
       "    </tr>\n",
       "    <tr>\n",
       "      <th>3</th>\n",
       "      <td>3</td>\n",
       "      <td>McDonalds</td>\n",
       "      <td>Walther-Schreiber-Platz 1</td>\n",
       "      <td>12161</td>\n",
       "      <td>Berlin</td>\n",
       "      <td>Germany</td>\n",
       "      <td>Walther-Schreiber-Platz 1, 12161, Berlin, Germany</td>\n",
       "      <td>(Schloss-Straßen-Center, 1, Walther-Schreiber-...</td>\n",
       "      <td>(52.46544755, 13.327684176306294, 0.0)</td>\n",
       "    </tr>\n",
       "    <tr>\n",
       "      <th>4</th>\n",
       "      <td>4</td>\n",
       "      <td>McDonalds</td>\n",
       "      <td>Hansastr. 1</td>\n",
       "      <td>13053</td>\n",
       "      <td>Berlin</td>\n",
       "      <td>Germany</td>\n",
       "      <td>Hansastr. 1, 13053, Berlin, Germany</td>\n",
       "      <td>(1, Hansastraße, Alt-Hohenschönhausen, Lichten...</td>\n",
       "      <td>(52.5470223, 13.4684079, 0.0)</td>\n",
       "    </tr>\n",
       "  </tbody>\n",
       "</table>\n",
       "</div>"
      ],
      "text/plain": [
       "   Unnamed: 0 restaurant                      street    zip    city  country  \\\n",
       "0           0  McDonalds  S-Bahnhof Alexanderplatz 1  10178  Berlin  Germany   \n",
       "1           1  McDonalds  U-Bahnhof Alexanderplatz 1  10178  Berlin  Germany   \n",
       "2           2  McDonalds               Europaplatz 1  10557  Berlin  Germany   \n",
       "3           3  McDonalds   Walther-Schreiber-Platz 1  12161  Berlin  Germany   \n",
       "4           4  McDonalds                 Hansastr. 1  13053  Berlin  Germany   \n",
       "\n",
       "                                             address  \\\n",
       "0  S-Bahnhof Alexanderplatz 1, 10178, Berlin, Ger...   \n",
       "1  U-Bahnhof Alexanderplatz 1, 10178, Berlin, Ger...   \n",
       "2              Europaplatz 1, 10557, Berlin, Germany   \n",
       "3  Walther-Schreiber-Platz 1, 12161, Berlin, Germany   \n",
       "4                Hansastr. 1, 13053, Berlin, Germany   \n",
       "\n",
       "                                            location  \\\n",
       "0                                               None   \n",
       "1                                               None   \n",
       "2  (Europaplatz 1, 10557 Berlin, Europaplatz, Moa...   \n",
       "3  (Schloss-Straßen-Center, 1, Walther-Schreiber-...   \n",
       "4  (1, Hansastraße, Alt-Hohenschönhausen, Lichten...   \n",
       "\n",
       "                                    point  \n",
       "0                                    None  \n",
       "1                                    None  \n",
       "2           (52.5257446, 13.3685935, 0.0)  \n",
       "3  (52.46544755, 13.327684176306294, 0.0)  \n",
       "4           (52.5470223, 13.4684079, 0.0)  "
      ]
     },
     "execution_count": 11,
     "metadata": {},
     "output_type": "execute_result"
    }
   ],
   "source": [
    "df.head()"
   ]
  },
  {
   "cell_type": "markdown",
   "id": "3e3c634a",
   "metadata": {},
   "source": [
    "Drop any colummns with null coordinate values"
   ]
  },
  {
   "cell_type": "code",
   "execution_count": null,
   "id": "5a20f8bf",
   "metadata": {},
   "outputs": [],
   "source": [
    "df1 = df.dropna()\n",
    "df1.head()"
   ]
  },
  {
   "cell_type": "code",
   "execution_count": null,
   "id": "051dd38d",
   "metadata": {},
   "outputs": [],
   "source": [
    "df1.shape"
   ]
  },
  {
   "cell_type": "code",
   "execution_count": null,
   "id": "e3ac11fc",
   "metadata": {},
   "outputs": [],
   "source": [
    "# split point column into latitude, longitude and altitude columns\n",
    "df1[['latitude', 'longitude', 'altitude']] = pd.DataFrame(df1['point'].tolist(), index=df1.index)\n",
    "df1.head()"
   ]
  },
  {
   "cell_type": "code",
   "execution_count": null,
   "id": "8f091898",
   "metadata": {},
   "outputs": [],
   "source": [
    "df1= df1.drop(['street', 'zip', 'city', 'point'], axis=1)"
   ]
  },
  {
   "cell_type": "code",
   "execution_count": null,
   "id": "bfc5b830",
   "metadata": {},
   "outputs": [],
   "source": [
    "df1.head()"
   ]
  },
  {
   "cell_type": "markdown",
   "id": "1f3f6e4d",
   "metadata": {},
   "source": [
    "#### Plot addresses\n",
    "Plot geocoded addresses using folium and leafmap mapping libraries"
   ]
  },
  {
   "cell_type": "code",
   "execution_count": null,
   "id": "5cce2a98",
   "metadata": {},
   "outputs": [],
   "source": [
    "map1 = folium.Map(\n",
    "    location=[50.1109,8.6821],\n",
    "    tiles='openstreetmap',\n",
    "    zoom_start=6,\n",
    ")\n",
    "\n",
    "df1.apply(lambda row:folium.CircleMarker(location=[row[\"latitude\"], row[\"longitude\"]]).add_to(map1), axis=1)\n",
    "map1"
   ]
  },
  {
   "cell_type": "code",
   "execution_count": null,
   "id": "9192f5be",
   "metadata": {},
   "outputs": [],
   "source": [
    "Map = leafmap.Map(center=(50.1109,8.6821), zoom=5)\n",
    "Map.add_xy_data(df1, x=\"longitude\", y=\"latitude\", layer_name=\"restaurants\")\n",
    "Map"
   ]
  },
  {
   "cell_type": "markdown",
   "id": "56420876",
   "metadata": {},
   "source": [
    "#### Routing from start point to end point\n",
    "Implement routing using openroutes service library\n"
   ]
  },
  {
   "cell_type": "code",
   "execution_count": null,
   "id": "8e079f00",
   "metadata": {
    "jupyter": {
     "outputs_hidden": true
    },
    "tags": []
   },
   "outputs": [],
   "source": [
    "df1.address"
   ]
  },
  {
   "cell_type": "markdown",
   "id": "bc97f86b",
   "metadata": {},
   "source": [
    "##### Select start point for routing\n",
    "Specify a start point or origin from the dropdown list of geocoded addresses\n"
   ]
  },
  {
   "cell_type": "code",
   "execution_count": null,
   "id": "d3c9ef70",
   "metadata": {},
   "outputs": [],
   "source": [
    "start_dropdown = widgets.Dropdown(options=list(df1.address),\n",
    "                                     value=list(df1.address)[0],\n",
    "                                     description='start:',\n",
    "                                     disabled=False)\n",
    "start_dropdown"
   ]
  },
  {
   "cell_type": "markdown",
   "id": "15a6c8d6",
   "metadata": {},
   "source": [
    "##### Select end point for routing\n",
    "Specify an end point or destination from the dropdown list of geocoded addresses\n"
   ]
  },
  {
   "cell_type": "code",
   "execution_count": null,
   "id": "aa91cee2",
   "metadata": {},
   "outputs": [],
   "source": [
    "end_dropdown = widgets.Dropdown(options=list(df1.address),\n",
    "                                   value=list(df1.address)[-1],\n",
    "                                   description='end:',\n",
    "                                   disabled=False)\n",
    "end_dropdown\n"
   ]
  },
  {
   "cell_type": "markdown",
   "id": "7b9a1ffb",
   "metadata": {
    "jupyter": {
     "source_hidden": true
    },
    "tags": []
   },
   "source": [
    "# widgets\n",
    "start_dropdown = widgets.Dropdown(options=list(df.address),\n",
    "                                     value=list(df.address)[0],\n",
    "                                     description='start:',\n",
    "                                     disabled=False)\n",
    "\n",
    "end_dropdown = widgets.Dropdown(options=list(df.address),\n",
    "                                   value=list(df.address)[1],\n",
    "                                   description='end:',\n",
    "                                   disabled=False)\n",
    "\n",
    "# function\n",
    "# calculate distance from a to b\n",
    "# display map with ant path from a to b\n",
    "def get_coordinates(a, b):\n",
    "    start_lat = df[df.address == a].latitude.values[0]\n",
    "    start_long = df[df.address == a].longitude.values[0]\n",
    "    end_lat = df[df.address == b].latitude.values[0]\n",
    "    end_long = df[df.address == b].longitude.values[0]\n",
    "    start, end = (start_lat, start_long), (end_lat, end_long)\n",
    "    \n",
    "    m = Map(center=(50.1109,8.6821), zoom=5, scroll_wheel_zoom=True)\n",
    "    ant_path = AntPath(locations=[start, end])\n",
    "    m.add_layer(ant_path)\n",
    "    measure = MeasureControl(position='topleft', active_color='red', primary_length_unit='miles')\n",
    "    m.add_control(measure)\n",
    "    display(m)\n",
    "    \n",
    "    return distance.distance(start, end).miles\n",
    "\n",
    "# interaction between function and widget\n",
    "widgets.interact(get_coordinates, a=start_dropdown, b=end_dropdown);"
   ]
  },
  {
   "cell_type": "code",
   "execution_count": null,
   "id": "3ecfc747",
   "metadata": {},
   "outputs": [],
   "source": [
    "#store selected dropdown values\n",
    "starter = start_dropdown.value\n",
    "ender = end_dropdown.value\n",
    "\n",
    "print('start_dropdown :',starter)\n",
    "print('end_dropdown :',ender)\n",
    "\n",
    "# # interaction between function and widget\n",
    "# widgets.interact(get_coordinates, a=start_dropdown, b=end_dropdown);\n",
    "def get_coordinates(starter, ender):\n",
    "    start_lat = df1[df1.address == starter].latitude.values[0]\n",
    "    start_long = df1[df1.address == starter].longitude.values[0]\n",
    "    end_lat = df1[df1.address == ender].latitude.values[0]\n",
    "    end_long = df1[df1.address == ender].longitude.values[0]\n",
    "    start, end = ((start_long, start_lat), (end_long, end_lat))\n",
    "    return start, end\n",
    "\n",
    "# call fn and return start, end coordinates\n",
    "start_and_end = get_coordinates(starter,ender)\n",
    "print(start_and_end)\n",
    "\n",
    "#reverse zoom center point, refered from start coordinates. should be [lat lon]\n",
    "start_loc = list(start_and_end[0])\n",
    "start_loc[1],start_loc[0] = start_loc[0], start_loc[1]\n",
    "end_loc = list(start_and_end[1])\n",
    "end_loc[1],end_loc[0] = end_loc[0], end_loc[1]\n",
    "\n",
    "\n",
    "#store markers coordinates and labels\n",
    "marks =[start_loc, end_loc]\n",
    "marks_popup=[starter,ender]\n",
    "\n",
    "\n",
    "# directions\n",
    "route = client.directions(coordinates=start_and_end,\n",
    "                          profile='driving-car', \n",
    "                          format='geojson')\n",
    "\n",
    "\n",
    "def get_distance_and_time(route):\n",
    "    level1 = route['features']\n",
    "    level2 =list(level1)[0].get('properties')\n",
    "    level3= level2.get('summary')\n",
    "    #store distance traveled\n",
    "    distance = level3.get('distance')\n",
    "    #store trip duration\n",
    "    duration = (level3.get('duration')/60)\n",
    "    print('Distance Travelled : ', round(distance/1000,2), 'km')\n",
    "    print('Trip duration : ', round(duration,2), 'mins')\n",
    "    return distance, duration\n",
    "\n",
    "\n",
    "#execute get_distance_time()\n",
    "route_details = get_distance_and_time(route)\n",
    "distance_traveled, time_traveled = route_details[0], route_details[1]\n",
    "\n",
    "\n",
    "#location wants lat lon\n",
    "# define empty map\n",
    "map_directions = folium.Map(location=start_loc, zoom_start=12.5)\n",
    "\n",
    "# add geojson of route to map\n",
    "folium.GeoJson(route, name='route').add_to(map_directions)\n",
    "\n",
    "# add layer control to map (allows layer to be turned on or off)\n",
    "folium.LayerControl().add_to(map_directions)\n",
    "\n",
    "# add markers on start and end\n",
    "for i in range(len(marks)):\n",
    "    folium.Marker(location=marks[i], popup=marks_popup[i]).add_to(map_directions)\n",
    "\n",
    "# display map\n",
    "map_directions"
   ]
  }
 ],
 "metadata": {
  "kernelspec": {
   "display_name": "Python39 (sde_project)",
   "language": "python",
   "name": "sde_project"
  },
  "language_info": {
   "codemirror_mode": {
    "name": "ipython",
    "version": 3
   },
   "file_extension": ".py",
   "mimetype": "text/x-python",
   "name": "python",
   "nbconvert_exporter": "python",
   "pygments_lexer": "ipython3",
   "version": "3.9.7"
  }
 },
 "nbformat": 4,
 "nbformat_minor": 5
}
